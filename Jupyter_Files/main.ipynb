{
 "metadata": {
  "language_info": {
   "codemirror_mode": {
    "name": "ipython",
    "version": 3
   },
   "file_extension": ".py",
   "mimetype": "text/x-python",
   "name": "python",
   "nbconvert_exporter": "python",
   "pygments_lexer": "ipython3",
   "version": "3.9.4"
  },
  "orig_nbformat": 2,
  "kernelspec": {
   "name": "python394jvsc74a57bd0e6fcfcf62346a532fd159533e3e6f3cf1929355c218f534557cbd86313f31e78",
   "display_name": "Python 3.9.4 64-bit ('numbapy': conda)"
  }
 },
 "nbformat": 4,
 "nbformat_minor": 2,
 "cells": [
  {
   "cell_type": "code",
   "execution_count": null,
   "metadata": {},
   "outputs": [],
   "source": [
    "#Importing Needed Libaries\n",
    "import nltk\n",
    "import numpy as np\n"
   ]
  },
  {
   "cell_type": "code",
   "execution_count": null,
   "metadata": {},
   "outputs": [],
   "source": [
    "#importing data for nltk\n",
    "nltk.download('punkt')"
   ]
  },
  {
   "cell_type": "code",
   "execution_count": null,
   "metadata": {},
   "outputs": [],
   "source": [
    "# Input String\n",
    "inputStr='''add 3, 5 .\n",
    "print result.\n",
    "'''\n",
    "print(\"\\nInput String :-\\n\",inputStr)\n",
    "# inputStr"
   ]
  },
  {
   "cell_type": "code",
   "execution_count": null,
   "metadata": {},
   "outputs": [],
   "source": [
    "#making Tokens of input \n",
    "tokenizeInput=np.array(nltk.word_tokenize(inputStr))\n",
    "print(\"\\nTokenzied Input :- \\n\",tokenizeInput,\"\\n\")"
   ]
  },
  {
   "cell_type": "code",
   "execution_count": null,
   "metadata": {},
   "outputs": [],
   "source": [
    "# CustomTree and MakeTape\n",
    "\n",
    "class CustomTree():\n",
    "    def __init__(self):\n",
    "        self.left=None\n",
    "        self.right=None\n",
    "        self.data=None\n",
    "    \n",
    "    def insertNode(self,value):\n",
    "        if self.data is None:\n",
    "            self.data=value\n",
    "        elif self.right is None:\n",
    "            # print(\"right is none \",value)\n",
    "            self.right=CustomTree()\n",
    "            self.right.insertNode(value=value)\n",
    "        else:\n",
    "            if \"$\" in self.right.data:\n",
    "                # print(\"right is not none and $ \",value)\n",
    "                temp=self.right\n",
    "                self.right=CustomTree()\n",
    "                self.right.insertNode(value=value)\n",
    "                self.right.left=temp\n",
    "            else:\n",
    "                # print(\"right is not none \",value)\n",
    "                self.right.insertNode(value)\n",
    "    def PrintTree(self,nodePostion=\"root\",height=0):\n",
    "        print(f'{self.data} : {nodePostion}, Height : {height}'),\n",
    "        if self.left:\n",
    "            self.left.PrintTree(nodePostion=\"left\",height=height+1)\n",
    "        if self.right:\n",
    "            self.right.PrintTree(nodePostion=\"right\",height=height+1)\n",
    "\n",
    "def makeTape(node:CustomTree):\n",
    "    tape=[]\n",
    "    while node.data is not None:\n",
    "        tape.append(node.data)\n",
    "        if node.left is not None:\n",
    "            tape.append(node.left.data)\n",
    "        if node.right is not None:\n",
    "            node=node.right\n",
    "        else:\n",
    "            break\n",
    "    return tape"
   ]
  },
  {
   "cell_type": "code",
   "execution_count": null,
   "metadata": {},
   "outputs": [],
   "source": [
    "#Word as function For Arthimetic Env\n",
    "class ArithameticEnv:\n",
    "    def __init__(self):\n",
    "        pass\n",
    "    @staticmethod\n",
    "    def addFun(*args):\n",
    "        result =\" \".join([\"result =\", *[f'{x if \"$\" not in x else x[1:]} +' for x in args]])\n",
    "        result=result[:-1]\n",
    "        return result\n",
    "    @staticmethod\n",
    "    def andFun(*args):\n",
    "        return None\n",
    "    @staticmethod\n",
    "    def commaFun(*args):\n",
    "        ArithameticEnv.andFun(*args)\n",
    "    @staticmethod\n",
    "    def printfun(*args):\n",
    "        result =\" \".join([\"print(\", *[f'{x if \"$\" not in x else x[1:]} ' for x in args],\")\"])\n",
    "        return result\n",
    "    env_Variables=[\"result\"]\n",
    "    env_Words_and_WordAsFunction={\"add\":addFun.__func__,\"and\":andFun.__func__,\",\":commaFun.__func__,\"print\":printfun.__func__}\n",
    "# ArithameticEnv.addFun(\"v1\",\"v2\")\n",
    "#ArithameticEnv.addFun(\"$v1\",\"v1\")\n",
    "# ArithameticEnv.env_Words_and_WordAsFunction['add'](\"$v1\",\"v1\")"
   ]
  },
  {
   "cell_type": "code",
   "execution_count": null,
   "metadata": {},
   "outputs": [],
   "source": [
    "# Making of Tape from Sentence\n",
    "global_Tape=[]\n",
    "itreate_each_word=iter(tokenizeInput)\n",
    "catch_variable_value=False\n",
    "end_Of_a_Sentence=True\n",
    "node=None\n",
    "try:\n",
    "    while True:\n",
    "        current_Word=next(itreate_each_word)\n",
    "        if \"$\"== current_Word and not catch_variable_value:\n",
    "            catch_variable_value=True\n",
    "        elif \".\"==current_Word and not end_Of_a_Sentence:\n",
    "            end_Of_a_Sentence=True\n",
    "            print(\"\\nCustom Tree Stracture of the current Sentence :- \\n\")\n",
    "            node.PrintTree()\n",
    "            tape=makeTape(node=node)\n",
    "            global_Tape.append(tape)\n",
    "            print(\"\\nEnd of a sentence\",\"\\nTape :- \\n\",tape,\"\\n\")\n",
    "        else:\n",
    "            if end_Of_a_Sentence:\n",
    "                print(\"\\nStarting of a sentence\\n\")\n",
    "                end_Of_a_Sentence=False\n",
    "                node=CustomTree()\n",
    "            elif catch_variable_value:\n",
    "                catch_variable_value=False\n",
    "                current_Word=\"$\"+current_Word\n",
    "            elif str(current_Word).isnumeric():\n",
    "                current_Word=\"$\"+current_Word\n",
    "            elif current_Word in ArithameticEnv.env_Variables:\n",
    "                current_Word=\"$\"+current_Word\n",
    "            node.insertNode(current_Word)\n",
    "            # print(current_Word)\n",
    "except StopIteration:\n",
    "    print(\"\\nEnd of All the lines\\n\")\n",
    "    print(\"\\nGlobal Tape :-\\n\",global_Tape)\n",
    "    pass\n"
   ]
  },
  {
   "cell_type": "code",
   "execution_count": null,
   "metadata": {},
   "outputs": [],
   "source": [
    "#The machice to Transfer the natural languae to Python code\n",
    "pythonCode=[]\n",
    "varibleBuffer=[]\n",
    "for sentenceTape in global_Tape:\n",
    "    varibleBuffer=[]\n",
    "    for word in reversed(sentenceTape):\n",
    "        if \"$\" in word :\n",
    "            varibleBuffer.append(word)\n",
    "        else:\n",
    "            result=ArithameticEnv.env_Words_and_WordAsFunction[word](*varibleBuffer)\n",
    "            if result is not None:\n",
    "               pythonCode.append(result)\n",
    "# pythonCode\n",
    "\n",
    "\n",
    "\n",
    "\n"
   ]
  },
  {
   "cell_type": "code",
   "execution_count": null,
   "metadata": {},
   "outputs": [],
   "source": [
    "print(\"\\npython code Exected Output\\n\")\n",
    "exec(\"\\n\".join(pythonCode))"
   ]
  },
  {
   "cell_type": "code",
   "execution_count": null,
   "metadata": {},
   "outputs": [],
   "source": []
  }
 ]
}