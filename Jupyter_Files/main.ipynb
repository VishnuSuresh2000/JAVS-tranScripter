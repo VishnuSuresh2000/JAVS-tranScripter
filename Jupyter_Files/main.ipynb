{
 "metadata": {
  "language_info": {
   "codemirror_mode": {
    "name": "ipython",
    "version": 3
   },
   "file_extension": ".py",
   "mimetype": "text/x-python",
   "name": "python",
   "nbconvert_exporter": "python",
   "pygments_lexer": "ipython3",
   "version": "3.9.5"
  },
  "orig_nbformat": 2,
  "kernelspec": {
   "name": "python395jvsc74a57bd0248a2ace8ff7e5d1afdd76b2e5d623659a661b6404ed24474de008921391ca22",
   "display_name": "Python 3.9.5 64-bit ('mnimlpy': conda)"
  },
  "metadata": {
   "interpreter": {
    "hash": "248a2ace8ff7e5d1afdd76b2e5d623659a661b6404ed24474de008921391ca22"
   }
  }
 },
 "nbformat": 4,
 "nbformat_minor": 2,
 "cells": [
  {
   "cell_type": "code",
   "execution_count": 1,
   "metadata": {},
   "outputs": [],
   "source": [
    "#Importing Needed Libaries\n",
    "import nltk\n",
    "import numpy as np\n"
   ]
  },
  {
   "cell_type": "code",
   "execution_count": 2,
   "metadata": {},
   "outputs": [
    {
     "output_type": "stream",
     "name": "stderr",
     "text": [
      "[nltk_data] Downloading package punkt to\n[nltk_data]     C:\\Users\\Achu\\AppData\\Roaming\\nltk_data...\n[nltk_data]   Package punkt is already up-to-date!\n"
     ]
    },
    {
     "output_type": "execute_result",
     "data": {
      "text/plain": [
       "True"
      ]
     },
     "metadata": {},
     "execution_count": 2
    }
   ],
   "source": [
    "#importing data for nltk\n",
    "nltk.download('punkt')"
   ]
  },
  {
   "cell_type": "code",
   "execution_count": 3,
   "metadata": {},
   "outputs": [
    {
     "output_type": "stream",
     "name": "stdout",
     "text": [
      "\nInput String :-\n \nstore 2 in $v1 .\nadd 3, 5 and $v1 .\nprint result.\ndivide 4, 2 . print result .\n\n"
     ]
    }
   ],
   "source": [
    "# Input String\n",
    "inputStr='''\n",
    "store 2 in $v1 .\n",
    "add 3, 5 and $v1 .\n",
    "print result.\n",
    "divide 4, 2 . print result .\n",
    "'''\n",
    "print(\"\\nInput String :-\\n\",inputStr)\n",
    "# inputStr"
   ]
  },
  {
   "cell_type": "code",
   "execution_count": 4,
   "metadata": {},
   "outputs": [
    {
     "output_type": "stream",
     "name": "stdout",
     "text": [
      "\nTokenzied Input :- \n ['store' '2' 'in' '$' 'v1' '.' 'add' '3' ',' '5' 'and' '$' 'v1' '.'\n 'print' 'result' '.' 'divide' '4' ',' '2' '.' 'print' 'result' '.'] \n\n"
     ]
    }
   ],
   "source": [
    "#making Tokens of input \n",
    "tokenizeInput=np.array(nltk.word_tokenize(inputStr))\n",
    "print(\"\\nTokenzied Input :- \\n\",tokenizeInput,\"\\n\")"
   ]
  },
  {
   "cell_type": "code",
   "execution_count": 5,
   "metadata": {},
   "outputs": [],
   "source": [
    "# CustomTree and MakeTape\n",
    "\n",
    "class CustomTree():\n",
    "    def __init__(self):\n",
    "        self.left=None\n",
    "        self.right=None\n",
    "        self.data=None\n",
    "    \n",
    "    def insertNode(self,value):\n",
    "        if self.data is None:\n",
    "            self.data=value\n",
    "        elif self.right is None:\n",
    "            # print(\"right is none \",value)\n",
    "            self.right=CustomTree()\n",
    "            self.right.insertNode(value=value)\n",
    "        else:\n",
    "            if \"$\" in self.right.data:\n",
    "                # print(\"right is not none and $ \",value)\n",
    "                temp=self.right\n",
    "                self.right=CustomTree()\n",
    "                self.right.insertNode(value=value)\n",
    "                self.right.left=temp\n",
    "            else:\n",
    "                # print(\"right is not none \",value)\n",
    "                self.right.insertNode(value)\n",
    "    def PrintTree(self,nodePostion=\"root\",height=0):\n",
    "        print(f'{self.data} : {nodePostion}, Height : {height}'),\n",
    "        if self.left:\n",
    "            self.left.PrintTree(nodePostion=\"left\",height=height+1)\n",
    "        if self.right:\n",
    "            self.right.PrintTree(nodePostion=\"right\",height=height+1)\n",
    "    def makeTape(self):\n",
    "        tape=[]\n",
    "        while self.data is not None:\n",
    "            tape.append(self.data)\n",
    "            if self.left is not None:\n",
    "                tape.append(self.left.data)\n",
    "            if self.right is not None:\n",
    "                self=self.right\n",
    "            else:\n",
    "                break\n",
    "        return tape\n",
    "\n",
    "# def makeTape(node:CustomTree):\n",
    "#     tape=[]\n",
    "#     while node.data is not None:\n",
    "#         tape.append(node.data)\n",
    "#         if node.left is not None:\n",
    "#             tape.append(node.left.data)\n",
    "#         if node.right is not None:\n",
    "#             node=node.right\n",
    "#         else:\n",
    "#             break\n",
    "#     return tape"
   ]
  },
  {
   "cell_type": "code",
   "execution_count": 6,
   "metadata": {},
   "outputs": [],
   "source": [
    "#Word as function For Arthimetic Env\n",
    "class ArithameticEnv:\n",
    "    def __init__(self):\n",
    "        pass\n",
    "    @staticmethod\n",
    "    def addFun(*args):\n",
    "        result =\" \".join([\"result =\", *[f'{x if \"$\" not in x else x[1:]} +' for x in args]])\n",
    "        result=result[:-1]\n",
    "        return result\n",
    "    @staticmethod\n",
    "    def multiplyFun(*args):\n",
    "        result =\" \".join([\"result =\", *[f'{x if \"$\" not in x else x[1:]} *' for x in args]])\n",
    "        result=result[:-1]\n",
    "        return result\n",
    "    @staticmethod\n",
    "    def divideFun(*args):\n",
    "        result =\" \".join([\"result =\", *[f'{x if \"$\" not in x else x[1:]} /' for x in args]])\n",
    "        result=result[:-1]\n",
    "        return result\n",
    "    @staticmethod\n",
    "    def storeFun(*args):\n",
    "        if len(args)== 2:\n",
    "            # if str(args[1]).isnumeric():\n",
    "            result=f'{args[0] if \"$\" not in args[0] else args[0][1:]}={args[1] if \"$\" not in args[1] else args[1][1:]}'\n",
    "            # else:\n",
    "                # raise Exception(\"Second argument must be integer\")\n",
    "            return result\n",
    "        else:\n",
    "            raise Exception(\"Only One variable and one Integer is support\")\n",
    "    @staticmethod\n",
    "    def toFun(*args):\n",
    "        return None\n",
    "    @staticmethod\n",
    "    def inFun(*args):\n",
    "        return None\n",
    "\n",
    "\n",
    "    @staticmethod\n",
    "    def andFun(*args):\n",
    "        return None\n",
    "    @staticmethod\n",
    "    def commaFun(*args):\n",
    "        ArithameticEnv.andFun(*args)\n",
    "    @staticmethod\n",
    "    def printfun(*args):\n",
    "        result =\" \".join([\"print(\", *[f'{x if \"$\" not in x else x[1:]}' for x in args],\")\"])\n",
    "        return result\n",
    "    env_Variables=[\"result\"]\n",
    "    env_Words_and_WordAsFunction={\"add\":addFun.__func__,\"and\":andFun.__func__,\",\":commaFun.__func__,\"print\":printfun.__func__,\"multiply\":multiplyFun.__func__,\"store\":storeFun.__func__,\"to\":toFun.__func__,\"in\":inFun.__func__,\"divide\":divideFun.__func__}\n",
    "# ArithameticEnv.addFun(\"v1\",\"v2\")\n",
    "#ArithameticEnv.addFun(\"$v1\",\"v1\")\n",
    "# ArithameticEnv.env_Words_and_WordAsFunction['add'](\"$v1\",\"v1\")"
   ]
  },
  {
   "cell_type": "code",
   "execution_count": 7,
   "metadata": {},
   "outputs": [
    {
     "output_type": "stream",
     "name": "stdout",
     "text": [
      "\nStarting of a sentence\n\n\nCustom Tree Stracture of the current Sentence :- \n\nstore : root, Height : 0\nin : right, Height : 1\n$2 : left, Height : 2\n$v1 : right, Height : 2\n\nEnd of a sentence \nTape :- \n ['store', 'in', '$2', '$v1'] \n\n\nStarting of a sentence\n\n\nCustom Tree Stracture of the current Sentence :- \n\nadd : root, Height : 0\n, : right, Height : 1\n$3 : left, Height : 2\nand : right, Height : 2\n$5 : left, Height : 3\n$v1 : right, Height : 3\n\nEnd of a sentence \nTape :- \n ['add', ',', '$3', 'and', '$5', '$v1'] \n\n\nStarting of a sentence\n\n\nCustom Tree Stracture of the current Sentence :- \n\nprint : root, Height : 0\n$result : right, Height : 1\n\nEnd of a sentence \nTape :- \n ['print', '$result'] \n\n\nStarting of a sentence\n\n\nCustom Tree Stracture of the current Sentence :- \n\ndivide : root, Height : 0\n, : right, Height : 1\n$4 : left, Height : 2\n$2 : right, Height : 2\n\nEnd of a sentence \nTape :- \n ['divide', ',', '$4', '$2'] \n\n\nStarting of a sentence\n\n\nCustom Tree Stracture of the current Sentence :- \n\nprint : root, Height : 0\n$result : right, Height : 1\n\nEnd of a sentence \nTape :- \n ['print', '$result'] \n\n\nEnd of All the lines\n\n\nGlobal Tape :-\n [['store', 'in', '$2', '$v1'], ['add', ',', '$3', 'and', '$5', '$v1'], ['print', '$result'], ['divide', ',', '$4', '$2'], ['print', '$result']]\n"
     ]
    }
   ],
   "source": [
    "# Making of Tape from Sentence\n",
    "global_Tape=[]\n",
    "itreate_each_word=iter(tokenizeInput)\n",
    "catch_variable_value=False\n",
    "end_Of_a_Sentence=True\n",
    "node=None\n",
    "try:\n",
    "    while True:\n",
    "        current_Word=next(itreate_each_word)\n",
    "        if \"$\"== current_Word and not catch_variable_value:\n",
    "            catch_variable_value=True\n",
    "        elif \".\"==current_Word and not end_Of_a_Sentence:\n",
    "            end_Of_a_Sentence=True\n",
    "            print(\"\\nCustom Tree Stracture of the current Sentence :- \\n\")\n",
    "            node.PrintTree()\n",
    "            tape=node.makeTape()\n",
    "            global_Tape.append(tape)\n",
    "            print(\"\\nEnd of a sentence\",\"\\nTape :- \\n\",tape,\"\\n\")\n",
    "        else:\n",
    "            if end_Of_a_Sentence:\n",
    "                print(\"\\nStarting of a sentence\\n\")\n",
    "                end_Of_a_Sentence=False\n",
    "                node=CustomTree()\n",
    "            elif catch_variable_value:\n",
    "                catch_variable_value=False\n",
    "                current_Word=\"$\"+current_Word\n",
    "            elif str(current_Word).isnumeric():\n",
    "                current_Word=\"$\"+current_Word\n",
    "            elif current_Word in ArithameticEnv.env_Variables:\n",
    "                current_Word=\"$\"+current_Word\n",
    "            node.insertNode(current_Word)\n",
    "            # print(current_Word)\n",
    "except StopIteration:\n",
    "    print(\"\\nEnd of All the lines\\n\")\n",
    "    print(\"\\nGlobal Tape :-\\n\",global_Tape)\n",
    "    pass\n"
   ]
  },
  {
   "cell_type": "code",
   "execution_count": 8,
   "metadata": {},
   "outputs": [
    {
     "output_type": "execute_result",
     "data": {
      "text/plain": [
       "['v1=2',\n",
       " 'result = v1 + 5 + 3 ',\n",
       " 'print( result )',\n",
       " 'result = 2 / 4 ',\n",
       " 'print( result )']"
      ]
     },
     "metadata": {},
     "execution_count": 8
    }
   ],
   "source": [
    "#The machice to Transfer the natural languae to Python code\n",
    "pythonCode=[]\n",
    "varibleBuffer=[]\n",
    "for sentenceTape in global_Tape:\n",
    "    varibleBuffer=[]\n",
    "    for word in reversed(sentenceTape):\n",
    "        if \"$\" in word :\n",
    "            varibleBuffer.append(word)\n",
    "        else:\n",
    "            result=ArithameticEnv.env_Words_and_WordAsFunction[word](*varibleBuffer)\n",
    "            if result is not None:\n",
    "               pythonCode.append(result)\n",
    "pythonCode\n",
    "\n",
    "\n",
    "\n",
    "\n"
   ]
  },
  {
   "cell_type": "code",
   "execution_count": 9,
   "metadata": {},
   "outputs": [
    {
     "output_type": "stream",
     "name": "stdout",
     "text": [
      "\npython code Exected Output\n\n10\n0.5\n"
     ]
    }
   ],
   "source": [
    "print(\"\\npython code Exected Output\\n\")\n",
    "exec(\"\\n\".join(pythonCode))"
   ]
  },
  {
   "cell_type": "code",
   "execution_count": null,
   "metadata": {},
   "outputs": [],
   "source": []
  }
 ]
}